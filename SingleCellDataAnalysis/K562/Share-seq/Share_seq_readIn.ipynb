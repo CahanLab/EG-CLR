{
 "cells": [
  {
   "cell_type": "code",
   "execution_count": null,
   "metadata": {},
   "outputs": [],
   "source": [
    "import numpy as np\n",
    "import pandas as pd\n",
    "import scanpy as sc\n",
    "import muon as mu\n",
    "import matplotlib.pyplot as plt\n",
    "from muon import atac as ac\n",
    "from muon import prot as pt\n",
    "import anndata as ad\n",
    "import random\n",
    "import os\n",
    "import scipy"
   ]
  },
  {
   "cell_type": "code",
   "execution_count": null,
   "metadata": {},
   "outputs": [],
   "source": [
    "# path\n",
    "path_ATAC= '/Users/alexandra/Desktop/Data/SingleCell/K652 /ISSAAC-seq-main/other_methods_preprocessing/share-seq/K562/ATAC'\n",
    "matrix_ATAC_file = os.path.join(path_ATAC, 'matrix.mtx')\n",
    "peaks_ATAC_file = os.path.join(path_ATAC, 'features.tsv')\n",
    "barcodes_ATAC_file = os.path.join(path_ATAC, 'barcodes.tsv')\n",
    "\n",
    "# Read matrix data\n",
    "sparse_ATAC_matrix = scipy.io.mmread(matrix_ATAC_file).tocsc()\n",
    "matrix_ATAC = pd.DataFrame.sparse.from_spmatrix(sparse_ATAC_matrix)\n",
    "\n",
    "# Read genes/features\n",
    "peaks_ATAC = pd.read_csv(peaks_ATAC_file, header=None, sep='\\t')\n",
    "\n",
    "# Read barcodes\n",
    "barcodes_ATAC = pd.read_csv(barcodes_ATAC_file, header=None, sep='\\t')"
   ]
  },
  {
   "cell_type": "code",
   "execution_count": null,
   "metadata": {},
   "outputs": [
    {
     "name": "stderr",
     "output_type": "stream",
     "text": [
      "/opt/anaconda3/envs/CLR/lib/python3.11/site-packages/anndata/_core/aligned_df.py:68: ImplicitModificationWarning: Transforming to str index.\n",
      "  warnings.warn(\"Transforming to str index.\", ImplicitModificationWarning)\n",
      "/opt/anaconda3/envs/CLR/lib/python3.11/site-packages/anndata/_core/aligned_df.py:68: ImplicitModificationWarning: Transforming to str index.\n",
      "  warnings.warn(\"Transforming to str index.\", ImplicitModificationWarning)\n"
     ]
    }
   ],
   "source": [
    "# make anndata object\n",
    "adata_ATAC = ad.AnnData(X = sparse_ATAC_matrix.T, obs = barcodes_ATAC, var = peaks_ATAC)"
   ]
  },
  {
   "cell_type": "code",
   "execution_count": null,
   "metadata": {},
   "outputs": [
    {
     "data": {
      "text/html": [
       "<div>\n",
       "<style scoped>\n",
       "    .dataframe tbody tr th:only-of-type {\n",
       "        vertical-align: middle;\n",
       "    }\n",
       "\n",
       "    .dataframe tbody tr th {\n",
       "        vertical-align: top;\n",
       "    }\n",
       "\n",
       "    .dataframe thead th {\n",
       "        text-align: right;\n",
       "    }\n",
       "</style>\n",
       "<table border=\"1\" class=\"dataframe\">\n",
       "  <thead>\n",
       "    <tr style=\"text-align: right;\">\n",
       "      <th></th>\n",
       "      <th>0</th>\n",
       "      <th>1</th>\n",
       "      <th>2</th>\n",
       "    </tr>\n",
       "  </thead>\n",
       "  <tbody>\n",
       "    <tr>\n",
       "      <th>0</th>\n",
       "      <td>chr1</td>\n",
       "      <td>540931</td>\n",
       "      <td>541007</td>\n",
       "    </tr>\n",
       "    <tr>\n",
       "      <th>1</th>\n",
       "      <td>chr1</td>\n",
       "      <td>713821</td>\n",
       "      <td>714533</td>\n",
       "    </tr>\n",
       "    <tr>\n",
       "      <th>2</th>\n",
       "      <td>chr1</td>\n",
       "      <td>740180</td>\n",
       "      <td>740374</td>\n",
       "    </tr>\n",
       "    <tr>\n",
       "      <th>3</th>\n",
       "      <td>chr1</td>\n",
       "      <td>752681</td>\n",
       "      <td>753146</td>\n",
       "    </tr>\n",
       "    <tr>\n",
       "      <th>4</th>\n",
       "      <td>chr1</td>\n",
       "      <td>762023</td>\n",
       "      <td>763282</td>\n",
       "    </tr>\n",
       "  </tbody>\n",
       "</table>\n",
       "</div>"
      ],
      "text/plain": [
       "      0       1       2\n",
       "0  chr1  540931  541007\n",
       "1  chr1  713821  714533\n",
       "2  chr1  740180  740374\n",
       "3  chr1  752681  753146\n",
       "4  chr1  762023  763282"
      ]
     },
     "execution_count": 5,
     "metadata": {},
     "output_type": "execute_result"
    }
   ],
   "source": [
    "## rename atac\n",
    "adata_ATAC.var.head(5)"
   ]
  },
  {
   "cell_type": "code",
   "execution_count": null,
   "metadata": {},
   "outputs": [
    {
     "data": {
      "text/html": [
       "<div>\n",
       "<style scoped>\n",
       "    .dataframe tbody tr th:only-of-type {\n",
       "        vertical-align: middle;\n",
       "    }\n",
       "\n",
       "    .dataframe tbody tr th {\n",
       "        vertical-align: top;\n",
       "    }\n",
       "\n",
       "    .dataframe thead th {\n",
       "        text-align: right;\n",
       "    }\n",
       "</style>\n",
       "<table border=\"1\" class=\"dataframe\">\n",
       "  <thead>\n",
       "    <tr style=\"text-align: right;\">\n",
       "      <th></th>\n",
       "      <th>Chr</th>\n",
       "      <th>Start</th>\n",
       "      <th>End</th>\n",
       "    </tr>\n",
       "  </thead>\n",
       "  <tbody>\n",
       "    <tr>\n",
       "      <th>0</th>\n",
       "      <td>chr1</td>\n",
       "      <td>540931</td>\n",
       "      <td>541007</td>\n",
       "    </tr>\n",
       "    <tr>\n",
       "      <th>1</th>\n",
       "      <td>chr1</td>\n",
       "      <td>713821</td>\n",
       "      <td>714533</td>\n",
       "    </tr>\n",
       "    <tr>\n",
       "      <th>2</th>\n",
       "      <td>chr1</td>\n",
       "      <td>740180</td>\n",
       "      <td>740374</td>\n",
       "    </tr>\n",
       "    <tr>\n",
       "      <th>3</th>\n",
       "      <td>chr1</td>\n",
       "      <td>752681</td>\n",
       "      <td>753146</td>\n",
       "    </tr>\n",
       "    <tr>\n",
       "      <th>4</th>\n",
       "      <td>chr1</td>\n",
       "      <td>762023</td>\n",
       "      <td>763282</td>\n",
       "    </tr>\n",
       "  </tbody>\n",
       "</table>\n",
       "</div>"
      ],
      "text/plain": [
       "    Chr   Start     End\n",
       "0  chr1  540931  541007\n",
       "1  chr1  713821  714533\n",
       "2  chr1  740180  740374\n",
       "3  chr1  752681  753146\n",
       "4  chr1  762023  763282"
      ]
     },
     "execution_count": 6,
     "metadata": {},
     "output_type": "execute_result"
    }
   ],
   "source": [
    "# rename atac var\n",
    "adata_ATAC.var.rename(columns = {0: 'Chr',\n",
    "                                 1: 'Start',\n",
    "                                 2: 'End'}, inplace = True)\n",
    "\n",
    "adata_ATAC.var['Start'] = adata_ATAC.var['Start'].astype(str)\n",
    "adata_ATAC.var['End'] = adata_ATAC.var['End'].astype(str)\n",
    "\n",
    "adata_ATAC.var.head(5)"
   ]
  },
  {
   "cell_type": "code",
   "execution_count": null,
   "metadata": {},
   "outputs": [
    {
     "data": {
      "text/plain": [
       "Index(['chr1_540931_541007', 'chr1_713821_714533', 'chr1_740180_740374',\n",
       "       'chr1_752681_753146', 'chr1_762023_763282'],\n",
       "      dtype='object')"
      ]
     },
     "execution_count": 7,
     "metadata": {},
     "output_type": "execute_result"
    }
   ],
   "source": [
    "# make var_names\n",
    "adata_ATAC.var_names = adata_ATAC.var['Chr'] + \"_\" + adata_ATAC.var['Start'] + \"_\" + adata_ATAC.var['End']\n",
    "adata_ATAC.var_names[0:5]"
   ]
  },
  {
   "cell_type": "code",
   "execution_count": null,
   "metadata": {},
   "outputs": [
    {
     "data": {
      "text/html": [
       "<div>\n",
       "<style scoped>\n",
       "    .dataframe tbody tr th:only-of-type {\n",
       "        vertical-align: middle;\n",
       "    }\n",
       "\n",
       "    .dataframe tbody tr th {\n",
       "        vertical-align: top;\n",
       "    }\n",
       "\n",
       "    .dataframe thead th {\n",
       "        text-align: right;\n",
       "    }\n",
       "</style>\n",
       "<table border=\"1\" class=\"dataframe\">\n",
       "  <thead>\n",
       "    <tr style=\"text-align: right;\">\n",
       "      <th></th>\n",
       "      <th>Cell_index</th>\n",
       "    </tr>\n",
       "  </thead>\n",
       "  <tbody>\n",
       "    <tr>\n",
       "      <th>0</th>\n",
       "      <td>R1.75,R2.54,R3.52,P1.33</td>\n",
       "    </tr>\n",
       "    <tr>\n",
       "      <th>1</th>\n",
       "      <td>R1.65,R2.43,R3.90,P1.37</td>\n",
       "    </tr>\n",
       "    <tr>\n",
       "      <th>2</th>\n",
       "      <td>R1.82,R2.52,R3.18,P1.36</td>\n",
       "    </tr>\n",
       "    <tr>\n",
       "      <th>3</th>\n",
       "      <td>R1.89,R2.40,R3.58,P1.36</td>\n",
       "    </tr>\n",
       "    <tr>\n",
       "      <th>4</th>\n",
       "      <td>R1.86,R2.28,R3.80,P1.37</td>\n",
       "    </tr>\n",
       "  </tbody>\n",
       "</table>\n",
       "</div>"
      ],
      "text/plain": [
       "                Cell_index\n",
       "0  R1.75,R2.54,R3.52,P1.33\n",
       "1  R1.65,R2.43,R3.90,P1.37\n",
       "2  R1.82,R2.52,R3.18,P1.36\n",
       "3  R1.89,R2.40,R3.58,P1.36\n",
       "4  R1.86,R2.28,R3.80,P1.37"
      ]
     },
     "execution_count": 8,
     "metadata": {},
     "output_type": "execute_result"
    }
   ],
   "source": [
    "# rename atac obs\n",
    "adata_ATAC.obs.rename(columns = {0: 'Cell_index'}, inplace=True)\n",
    "adata_ATAC.obs.head(5)"
   ]
  },
  {
   "cell_type": "code",
   "execution_count": null,
   "metadata": {},
   "outputs": [
    {
     "data": {
      "text/plain": [
       "Index(['R1.75,R2.54,R3.52,P1.33', 'R1.65,R2.43,R3.90,P1.37',\n",
       "       'R1.82,R2.52,R3.18,P1.36', 'R1.89,R2.40,R3.58,P1.36',\n",
       "       'R1.86,R2.28,R3.80,P1.37'],\n",
       "      dtype='object', name='Cell_index')"
      ]
     },
     "execution_count": 9,
     "metadata": {},
     "output_type": "execute_result"
    }
   ],
   "source": [
    "# make obs_names\n",
    "adata_ATAC.obs_names = adata_ATAC.obs[\"Cell_index\"]\n",
    "adata_ATAC.obs_names[0:5]"
   ]
  },
  {
   "cell_type": "code",
   "execution_count": null,
   "metadata": {},
   "outputs": [
    {
     "data": {
      "text/plain": [
       "Index(['R1.65,R2.01,R3.04,P1.31', 'R1.65,R2.01,R3.28,P1.31',\n",
       "       'R1.65,R2.01,R3.47,P1.33', 'R1.65,R2.02,R3.13,P1.36',\n",
       "       'R1.65,R2.02,R3.53,P1.31'],\n",
       "      dtype='object', name='Cell_index')"
      ]
     },
     "execution_count": 10,
     "metadata": {},
     "output_type": "execute_result"
    }
   ],
   "source": [
    "# sort adata by cell names\n",
    "adata_ATAC = adata_ATAC[adata_ATAC.obs.sort_index().index]\n",
    "adata_ATAC.obs_names[0:5]"
   ]
  },
  {
   "cell_type": "code",
   "execution_count": null,
   "metadata": {},
   "outputs": [],
   "source": [
    "# read path\n",
    "path_RNA = '/Users/alexandra/Desktop/Data/SingleCell/K652 /ISSAAC-seq-main/other_methods_preprocessing/share-seq/K562/RNA'\n",
    "matrix_RNA_file = os.path.join(path_RNA, 'matrix.mtx')\n",
    "genes_RNA_file = os.path.join(path_RNA, 'features.tsv')\n",
    "barcodes_RNA_file = os.path.join(path_RNA, 'barcodes.tsv')\n",
    "\n",
    "# Read matrix data\n",
    "sparse_RNA_matrix = scipy.io.mmread(matrix_RNA_file).tocsc()\n",
    "matrix_RNA = pd.DataFrame.sparse.from_spmatrix(sparse_RNA_matrix)\n",
    "\n",
    "# Read genes/features\n",
    "genes_RNA = pd.read_csv(genes_RNA_file, header=None, sep='\\t')\n",
    "\n",
    "# Read barcodes\n",
    "barcodes_RNA = pd.read_csv(barcodes_RNA_file, header=None, sep='\\t')"
   ]
  },
  {
   "cell_type": "code",
   "execution_count": null,
   "metadata": {},
   "outputs": [
    {
     "name": "stderr",
     "output_type": "stream",
     "text": [
      "/opt/anaconda3/envs/CLR/lib/python3.11/site-packages/anndata/_core/aligned_df.py:68: ImplicitModificationWarning: Transforming to str index.\n",
      "  warnings.warn(\"Transforming to str index.\", ImplicitModificationWarning)\n",
      "/opt/anaconda3/envs/CLR/lib/python3.11/site-packages/anndata/_core/aligned_df.py:68: ImplicitModificationWarning: Transforming to str index.\n",
      "  warnings.warn(\"Transforming to str index.\", ImplicitModificationWarning)\n"
     ]
    }
   ],
   "source": [
    "# read rna anndata\n",
    "adata_RNA = ad.AnnData(X = sparse_RNA_matrix.T, obs = barcodes_RNA, var = genes_RNA )"
   ]
  },
  {
   "cell_type": "code",
   "execution_count": null,
   "metadata": {},
   "outputs": [
    {
     "data": {
      "text/html": [
       "<div>\n",
       "<style scoped>\n",
       "    .dataframe tbody tr th:only-of-type {\n",
       "        vertical-align: middle;\n",
       "    }\n",
       "\n",
       "    .dataframe tbody tr th {\n",
       "        vertical-align: top;\n",
       "    }\n",
       "\n",
       "    .dataframe thead th {\n",
       "        text-align: right;\n",
       "    }\n",
       "</style>\n",
       "<table border=\"1\" class=\"dataframe\">\n",
       "  <thead>\n",
       "    <tr style=\"text-align: right;\">\n",
       "      <th></th>\n",
       "      <th>Gene</th>\n",
       "    </tr>\n",
       "    <tr>\n",
       "      <th>Gene</th>\n",
       "      <th></th>\n",
       "    </tr>\n",
       "  </thead>\n",
       "  <tbody>\n",
       "    <tr>\n",
       "      <th>5S_rRNA</th>\n",
       "      <td>5S_rRNA</td>\n",
       "    </tr>\n",
       "    <tr>\n",
       "      <th>7SK</th>\n",
       "      <td>7SK</td>\n",
       "    </tr>\n",
       "    <tr>\n",
       "      <th>A1BG</th>\n",
       "      <td>A1BG</td>\n",
       "    </tr>\n",
       "    <tr>\n",
       "      <th>A1CF</th>\n",
       "      <td>A1CF</td>\n",
       "    </tr>\n",
       "    <tr>\n",
       "      <th>A2M</th>\n",
       "      <td>A2M</td>\n",
       "    </tr>\n",
       "  </tbody>\n",
       "</table>\n",
       "</div>"
      ],
      "text/plain": [
       "            Gene\n",
       "Gene            \n",
       "5S_rRNA  5S_rRNA\n",
       "7SK          7SK\n",
       "A1BG        A1BG\n",
       "A1CF        A1CF\n",
       "A2M          A2M"
      ]
     },
     "execution_count": 13,
     "metadata": {},
     "output_type": "execute_result"
    }
   ],
   "source": [
    "# rename rna var, make var_names\n",
    "adata_RNA.var.rename(columns = {0: 'Gene'}, inplace = True)\n",
    "adata_RNA.var_names = adata_RNA.var['Gene']\n",
    "adata_RNA.var.head(5)"
   ]
  },
  {
   "cell_type": "code",
   "execution_count": null,
   "metadata": {},
   "outputs": [
    {
     "data": {
      "text/html": [
       "<div>\n",
       "<style scoped>\n",
       "    .dataframe tbody tr th:only-of-type {\n",
       "        vertical-align: middle;\n",
       "    }\n",
       "\n",
       "    .dataframe tbody tr th {\n",
       "        vertical-align: top;\n",
       "    }\n",
       "\n",
       "    .dataframe thead th {\n",
       "        text-align: right;\n",
       "    }\n",
       "</style>\n",
       "<table border=\"1\" class=\"dataframe\">\n",
       "  <thead>\n",
       "    <tr style=\"text-align: right;\">\n",
       "      <th></th>\n",
       "      <th>Cell_index</th>\n",
       "    </tr>\n",
       "    <tr>\n",
       "      <th>Cell_index</th>\n",
       "      <th></th>\n",
       "    </tr>\n",
       "  </thead>\n",
       "  <tbody>\n",
       "    <tr>\n",
       "      <th>R1.65,R2.01,R3.04,P1.39</th>\n",
       "      <td>R1.65,R2.01,R3.04,P1.39</td>\n",
       "    </tr>\n",
       "    <tr>\n",
       "      <th>R1.65,R2.01,R3.28,P1.39</th>\n",
       "      <td>R1.65,R2.01,R3.28,P1.39</td>\n",
       "    </tr>\n",
       "    <tr>\n",
       "      <th>R1.65,R2.01,R3.47,P1.41</th>\n",
       "      <td>R1.65,R2.01,R3.47,P1.41</td>\n",
       "    </tr>\n",
       "    <tr>\n",
       "      <th>R1.65,R2.01,R3.93,P1.40</th>\n",
       "      <td>R1.65,R2.01,R3.93,P1.40</td>\n",
       "    </tr>\n",
       "    <tr>\n",
       "      <th>R1.65,R2.02,R3.13,P1.44</th>\n",
       "      <td>R1.65,R2.02,R3.13,P1.44</td>\n",
       "    </tr>\n",
       "  </tbody>\n",
       "</table>\n",
       "</div>"
      ],
      "text/plain": [
       "                                      Cell_index\n",
       "Cell_index                                      \n",
       "R1.65,R2.01,R3.04,P1.39  R1.65,R2.01,R3.04,P1.39\n",
       "R1.65,R2.01,R3.28,P1.39  R1.65,R2.01,R3.28,P1.39\n",
       "R1.65,R2.01,R3.47,P1.41  R1.65,R2.01,R3.47,P1.41\n",
       "R1.65,R2.01,R3.93,P1.40  R1.65,R2.01,R3.93,P1.40\n",
       "R1.65,R2.02,R3.13,P1.44  R1.65,R2.02,R3.13,P1.44"
      ]
     },
     "execution_count": 14,
     "metadata": {},
     "output_type": "execute_result"
    }
   ],
   "source": [
    "# rename rna obs, make obs_names\n",
    "adata_RNA.obs.rename(columns = {0: 'Cell_index'}, inplace=True)\n",
    "adata_RNA.obs_names = adata_RNA.obs['Cell_index']\n",
    "adata_RNA.obs.head(5)"
   ]
  },
  {
   "cell_type": "code",
   "execution_count": null,
   "metadata": {},
   "outputs": [
    {
     "data": {
      "text/plain": [
       "Index(['R1.65,R2.01,R3.04,P1.39', 'R1.65,R2.01,R3.28,P1.39',\n",
       "       'R1.65,R2.01,R3.47,P1.41', 'R1.65,R2.01,R3.93,P1.40',\n",
       "       'R1.65,R2.02,R3.13,P1.44'],\n",
       "      dtype='object', name='Cell_index')"
      ]
     },
     "execution_count": 15,
     "metadata": {},
     "output_type": "execute_result"
    }
   ],
   "source": [
    "# sort adata rna by cell names\n",
    "adata_RNA = adata_RNA[adata_RNA.obs.sort_index().index]\n",
    "adata_RNA.obs_names[0:5]"
   ]
  },
  {
   "cell_type": "code",
   "execution_count": null,
   "metadata": {},
   "outputs": [
    {
     "data": {
      "text/plain": [
       "Index(['R1.65,R2.01,R3.04,P1.39', 'R1.65,R2.01,R3.28,P1.39',\n",
       "       'R1.65,R2.01,R3.47,P1.41', 'R1.65,R2.01,R3.93,P1.40',\n",
       "       'R1.65,R2.02,R3.13,P1.44', 'R1.65,R2.02,R3.53,P1.39',\n",
       "       'R1.65,R2.02,R3.55,P1.41', 'R1.65,R2.02,R3.60,P1.42',\n",
       "       'R1.65,R2.02,R3.84,P1.40', 'R1.65,R2.03,R3.13,P1.41',\n",
       "       ...\n",
       "       'R1.96,R2.92,R3.57,P1.42', 'R1.96,R2.93,R3.08,P1.45',\n",
       "       'R1.96,R2.93,R3.16,P1.39', 'R1.96,R2.94,R3.12,P1.43',\n",
       "       'R1.96,R2.94,R3.12,P1.45', 'R1.96,R2.94,R3.61,P1.39',\n",
       "       'R1.96,R2.94,R3.89,P1.45', 'R1.96,R2.95,R3.90,P1.42',\n",
       "       'R1.96,R2.96,R3.40,P1.45', 'R1.96,R2.96,R3.51,P1.41'],\n",
       "      dtype='object', name='Cell_index', length=8515)"
      ]
     },
     "execution_count": 20,
     "metadata": {},
     "output_type": "execute_result"
    }
   ],
   "source": [
    "## comparing cell names between atac and rna\n",
    "adata_RNA.obs_names"
   ]
  },
  {
   "cell_type": "code",
   "execution_count": 63,
   "metadata": {},
   "outputs": [
    {
     "data": {
      "text/plain": [
       "Index(['R1.65,R2.01,R3.04,P1.31', 'R1.65,R2.01,R3.28,P1.31',\n",
       "       'R1.65,R2.01,R3.47,P1.33', 'R1.65,R2.02,R3.13,P1.36',\n",
       "       'R1.65,R2.02,R3.53,P1.31', 'R1.65,R2.02,R3.55,P1.33',\n",
       "       'R1.65,R2.02,R3.60,P1.34', 'R1.65,R2.03,R3.17,P1.37',\n",
       "       'R1.65,R2.03,R3.43,P1.37', 'R1.65,R2.04,R3.09,P1.35',\n",
       "       ...\n",
       "       'R1.96,R2.93,R3.08,P1.37', 'R1.96,R2.93,R3.16,P1.31',\n",
       "       'R1.96,R2.94,R3.12,P1.35', 'R1.96,R2.94,R3.12,P1.37',\n",
       "       'R1.96,R2.94,R3.61,P1.31', 'R1.96,R2.94,R3.89,P1.37',\n",
       "       'R1.96,R2.95,R3.90,P1.34', 'R1.96,R2.95,R3.90,P1.37',\n",
       "       'R1.96,R2.96,R3.40,P1.37', 'R1.96,R2.96,R3.51,P1.33'],\n",
       "      dtype='object', name='Cell_index', length=7744)"
      ]
     },
     "execution_count": 63,
     "metadata": {},
     "output_type": "execute_result"
    }
   ],
   "source": [
    "adata_ATAC.obs_names"
   ]
  },
  {
   "cell_type": "code",
   "execution_count": null,
   "metadata": {},
   "outputs": [
    {
     "data": {
      "text/plain": [
       "set()"
      ]
     },
     "execution_count": 81,
     "metadata": {},
     "output_type": "execute_result"
    }
   ],
   "source": [
    "# overlap between rna and atac cell names \n",
    "set(adata_RNA.obs_names) & set(adata_ATAC.obs_names)\n",
    "\n",
    "# there is no overlap between R1 R2 R3 P1 combination"
   ]
  },
  {
   "cell_type": "code",
   "execution_count": null,
   "metadata": {},
   "outputs": [],
   "source": [
    "# R1 R2 R3 might be round 1- 3 for barcode manufacturing process \n",
    "# isolate R1 R2 R3 \n",
    "barcode_1 = adata_ATAC.obs_names\n",
    "barcode_2 = adata_RNA.obs_names\n",
    "barcode_1_split = [entry.split(',') for entry in barcode_1]\n",
    "barcode_2_split = [entry.split(',') for entry in barcode_2]\n",
    "\n",
    "barcode_unique_1 = pd.DataFrame({ 'Cell_index': [','.join(row[:3])  for row in barcode_1_split]})\n",
    "barcode_unique_2 = pd.DataFrame({ 'Cell_index': [','.join(row[:3]) for row in barcode_2_split ]})"
   ]
  },
  {
   "cell_type": "code",
   "execution_count": null,
   "metadata": {},
   "outputs": [
    {
     "name": "stdout",
     "output_type": "stream",
     "text": [
      "RNA is uique:  False\n"
     ]
    },
    {
     "data": {
      "text/plain": [
       "144     R1.65,R2.39,R3.81\n",
       "145     R1.65,R2.39,R3.81\n",
       "172     R1.65,R2.46,R3.84\n",
       "173     R1.65,R2.46,R3.84\n",
       "186     R1.65,R2.50,R3.41\n",
       "              ...        \n",
       "8435    R1.96,R2.64,R3.20\n",
       "8502    R1.96,R2.91,R3.23\n",
       "8503    R1.96,R2.91,R3.23\n",
       "8508    R1.96,R2.94,R3.12\n",
       "8509    R1.96,R2.94,R3.12\n",
       "Name: Cell_index, Length: 300, dtype: object"
      ]
     },
     "execution_count": 92,
     "metadata": {},
     "output_type": "execute_result"
    }
   ],
   "source": [
    "# R1 R2 R3 is not unique for RNA\n",
    "print(\"RNA is uique: \", barcode_unique_2['Cell_index'].is_unique)\n",
    "\n",
    "duplicates = barcode_unique_2['Cell_index'][barcode_unique_2['Cell_index'].duplicated(keep=False)]\n",
    "duplicates"
   ]
  },
  {
   "cell_type": "code",
   "execution_count": null,
   "metadata": {},
   "outputs": [
    {
     "name": "stdout",
     "output_type": "stream",
     "text": [
      "ATAC is uique:  False\n"
     ]
    },
    {
     "data": {
      "text/plain": [
       "127     R1.65,R2.39,R3.81\n",
       "128     R1.65,R2.39,R3.81\n",
       "165     R1.65,R2.50,R3.41\n",
       "166     R1.65,R2.50,R3.41\n",
       "202     R1.65,R2.60,R3.21\n",
       "              ...        \n",
       "7731    R1.96,R2.91,R3.23\n",
       "7736    R1.96,R2.94,R3.12\n",
       "7737    R1.96,R2.94,R3.12\n",
       "7740    R1.96,R2.95,R3.90\n",
       "7741    R1.96,R2.95,R3.90\n",
       "Name: Cell_index, Length: 256, dtype: object"
      ]
     },
     "execution_count": 93,
     "metadata": {},
     "output_type": "execute_result"
    }
   ],
   "source": [
    "# R1 R2 R3 is not unique in ATAC\n",
    "print(\"ATAC is uique: \", barcode_unique_1['Cell_index'].is_unique)\n",
    "\n",
    "duplicates = barcode_unique_1['Cell_index'][barcode_unique_1['Cell_index'].duplicated(keep=False)]\n",
    "duplicates"
   ]
  },
  {
   "cell_type": "code",
   "execution_count": 95,
   "metadata": {},
   "outputs": [
    {
     "name": "stdout",
     "output_type": "stream",
     "text": [
      "Number of overlapped cells in RNA and ATAC:  7102\n"
     ]
    }
   ],
   "source": [
    "overlapped_cells = set(barcode_unique_1['Cell_index']) & set(barcode_unique_2['Cell_index'])\n",
    "print(\"Number of overlapped cells in RNA and ATAC: \", len(overlapped_cells))"
   ]
  }
 ],
 "metadata": {
  "kernelspec": {
   "display_name": "CLR",
   "language": "python",
   "name": "python3"
  },
  "language_info": {
   "codemirror_mode": {
    "name": "ipython",
    "version": 3
   },
   "file_extension": ".py",
   "mimetype": "text/x-python",
   "name": "python",
   "nbconvert_exporter": "python",
   "pygments_lexer": "ipython3",
   "version": "3.11.8"
  }
 },
 "nbformat": 4,
 "nbformat_minor": 2
}
