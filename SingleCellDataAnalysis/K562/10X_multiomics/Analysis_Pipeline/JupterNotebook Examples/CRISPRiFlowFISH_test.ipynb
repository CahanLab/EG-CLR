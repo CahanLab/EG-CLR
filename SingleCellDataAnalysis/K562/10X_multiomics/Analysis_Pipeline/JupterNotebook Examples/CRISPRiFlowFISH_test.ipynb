{
 "cells": [
  {
   "cell_type": "code",
   "execution_count": null,
   "metadata": {},
   "outputs": [],
   "source": [
    "import sys\n",
    "import os\n",
    "import muon as mu\n",
    "\n",
    "\n",
    "# Add the Functions folder to your path\n",
    "sys.path.append(os.path.abspath(\"/Users/alexandra/Desktop/EG-CLR/Functions\"))\n",
    "\n",
    "# Now import your functions\n",
    "from QC_functions import *\n",
    "from CLR_functions import *\n",
    "from Verfication_functions import *"
   ]
  },
  {
   "cell_type": "markdown",
   "metadata": {},
   "source": [
    "# Run EG_CLR"
   ]
  },
  {
   "cell_type": "code",
   "execution_count": null,
   "metadata": {},
   "outputs": [],
   "source": [
    "# Load multimodal data\n",
    "mdata = mu.read(\"/Volumes/G-DRIVE mobile USB-C/Single-cell_data/K562/10x/ISSAACC-seq_generated/hg19_10xCloud_aligned_data/processed_data/multiome_data.h5mu\")\n",
    "\n",
    "adata_gem = mdata['rna']\n",
    "adata_atac = mdata['atac']"
   ]
  },
  {
   "cell_type": "code",
   "execution_count": null,
   "metadata": {},
   "outputs": [],
   "source": [
    "# obtaining orginal read counts\n",
    "adata_org = sc.read_10x_mtx('/Volumes/G-DRIVE mobile USB-C/Single-cell_data/K562/10x/ISSAACC-seq_generated/hg19_10xCloud_aligned_data/filtered_feature_bc_matrix',\n",
    "                            gex_only = False)\n",
    "\n",
    "gex_rows = list(map(lambda x: x == 'Gene Expression', adata_org.var['feature_types']))\n",
    "atac_rows = list(map(lambda x: x == 'Peaks', adata_org.var['feature_types']))\n",
    "\n",
    "adata_gem_org = adata_org[:, gex_rows].copy()\n",
    "adata_atac_org = adata_org[:, atac_rows].copy()\n",
    "\n",
    "adata_gem_org.var_names_make_unique()\n",
    "adata_atac_org.var_names_make_unique()\n",
    "\n",
    "# replace read counts with orgaianl read counts\n",
    "gem_index = adata_gem.var_names\n",
    "atac_index = adata_atac.var.index\n",
    "\n",
    "cell_index = adata_gem.obs.index\n",
    "\n",
    "adata_gem_new = adata_gem_org[:, adata_gem_org.var_names.isin(gem_index)].copy()\n",
    "adata_atac_new = adata_atac_org[:, adata_atac_org.var_names.isin(atac_index)].copy()\n",
    "\n",
    "adata_gem_new = adata_gem_new[adata_gem_new.obs_names.isin(cell_index)].copy()\n",
    "adata_atac_new = adata_atac_new[adata_atac_new.obs_names.isin(cell_index)].copy()\n",
    "\n",
    "# normalizing scRNA-seq again  \n",
    "adata_gem_new = assign_chr('/Volumes/G-DRIVE mobile USB-C/Single-cell_data/K562/10x/ISSAACC-seq_generated/hg19_10xCloud_aligned_data/filtered_feature_bc_matrix/features.tsv.gz', adata_gem_new)\n",
    "sc.pp.normalize_total(adata_gem_new, target_sum=1e4)\n",
    "sc.pp.log1p(adata_gem_new)\n",
    "adata_gem_new"
   ]
  },
  {
   "cell_type": "code",
   "execution_count": null,
   "metadata": {},
   "outputs": [],
   "source": [
    "# isolate Chr x gene\n",
    "adata_gem_chrx = adata_gem_new[:,adata_gem_new.var[\"Chromosome\"] == 'chrX'].copy() \n",
    "adata_gem_chrx.obs"
   ]
  },
  {
   "cell_type": "code",
   "execution_count": null,
   "metadata": {},
   "outputs": [],
   "source": [
    "# define promoter, enhancer and gene body regions\n",
    "adata_atac_new = assign_loc('/Volumes/G-DRIVE mobile USB-C/Single-cell_data/K562/10x/ISSAACC-seq_generated/hg19_10xCloud_aligned_data/filtered_feature_bc_matrix/features.tsv.gz',\n",
    "    \"/Volumes/G-DRIVE mobile USB-C/Single-cell_data/K562/10x/ISSAACC-seq_generated/hg19_10xCloud_aligned_data/atac_peak_annotation.tsv\", adata_atac_new)\n",
    "adata_atac_new = assign_chr('/Volumes/G-DRIVE mobile USB-C/Single-cell_data/K562/10x/ISSAACC-seq_generated/hg19_10xCloud_aligned_data/filtered_feature_bc_matrix/features.tsv.gz', adata_atac_new)\n",
    "adata_atac_chrx = subset_adata_by_chromosome(adata_atac_new,-1)\n",
    "adata_atac_chrx"
   ]
  },
  {
   "cell_type": "code",
   "execution_count": null,
   "metadata": {},
   "outputs": [],
   "source": [
    "# before leave: \n",
    "adata_atac_chrx.X = (adata_atac_chrx.X > 0).astype(int)\n",
    "MI_Matrix_chrx = MI_Matrix_MIinfoClassif(adata_gem_chrx, adata_atac_chrx)\n",
    "write_matrixes(\"ChrX_AllGenes_AllPeaks_NormByCell\", MI_Matrix_chrx)"
   ]
  },
  {
   "cell_type": "code",
   "execution_count": null,
   "metadata": {},
   "outputs": [],
   "source": [
    "# Select accessible (promoter + gene body) and expressive gene\n",
    "\n",
    "# define promoter, enhancer and gene body regions\n",
    "adata_CRE, adata_gene, adata_promoter = separate_GRE_gene_promotor(adata_atac_chrx)\n",
    "\n",
    "\n",
    "# limited gene to be accessible in gene body, promoter and expressed \n",
    "adata_rna_flitered, adata_atac_gene_filtered, adata_CRE, adata_atac_promoter_filtered = define_open_express_gene(adata_gem_chrx, adata_atac_chrx)\n"
   ]
  },
  {
   "cell_type": "code",
   "execution_count": null,
   "metadata": {},
   "outputs": [],
   "source": [
    "# binarize scATAC-seq \n",
    "adata_atac_chrx.X = (adata_atac_chrx.X > 0).astype(int)"
   ]
  },
  {
   "cell_type": "code",
   "execution_count": null,
   "metadata": {},
   "outputs": [],
   "source": [
    "# compute CLR matrix ChrX (RNA vs ATAC)\n",
    "MI_Matrix_chrx = MI_Matrix_MIinfoClassif(adata_rna_flitered, adata_atac_chrx)\n",
    "CLR_matrix_chrx = CLR_Matrix(MI_Matrix_chrx)"
   ]
  },
  {
   "cell_type": "code",
   "execution_count": null,
   "metadata": {},
   "outputs": [],
   "source": [
    "MI_Matrix_chrx = pd.DataFrame(MI_Matrix_chrx.values, index=adata_atac_chrx.var['gene_ids'], columns=adata_rna_flitered.var['gene'])\n",
    "write_matrixes(\"ChrX_SelectGenes_AllPeaks_NormByCell\",MI_Matrix_chrx)"
   ]
  },
  {
   "cell_type": "code",
   "execution_count": null,
   "metadata": {},
   "outputs": [],
   "source": [
    "CLR_matrix_chrx = pd.DataFrame(CLR_matrix_chrx.values, index=adata_atac_chrx.var['gene_ids'], columns=adata_rna_flitered.var['gene'])"
   ]
  },
  {
   "cell_type": "markdown",
   "metadata": {},
   "source": [
    "# Run CRISPRi comparison"
   ]
  },
  {
   "cell_type": "code",
   "execution_count": null,
   "metadata": {},
   "outputs": [],
   "source": [
    "# obtain GATA1 gene and peak pairs\n",
    "GATA1_EG_pair = EG_pair_by_name(\"GATA1\", CLR_matrix_chrx)\n",
    "GATA1_EG_pair"
   ]
  },
  {
   "cell_type": "code",
   "execution_count": null,
   "metadata": {},
   "outputs": [],
   "source": [
    "# Read CRISPRi data\n",
    "\n",
    "CRISPRi_data = pd.read_excel('/Users/alexandra/Desktop/Data/CRISPRiFlowFISH/41588_2019_538_MOESM3_ESM.xlsx',\n",
    "                             sheet_name='Supplementary Table 6a', \n",
    "                             skiprows=0,\n",
    "                             header=1)\n",
    "\n",
    "# Find GATA1 \n",
    "CRISPRi_GATA1 = CRISPRi_data[CRISPRi_data['Gene'] == 'GATA1'].copy()\n",
    "CRISPRi_GATA1 = CRISPRi_GATA1[['chr', 'start', 'end', 'class', 'Significant','Gene']].copy()\n",
    "\n",
    "CRISPRi_GATA1"
   ]
  },
  {
   "cell_type": "code",
   "execution_count": null,
   "metadata": {},
   "outputs": [],
   "source": [
    "# Find the range of GATA1 data\n",
    "CRISPRi_GATA1_start =  CRISPRi_GATA1['start'].min()\n",
    "CRISPRi_GATA1_end = CRISPRi_GATA1['end'].max() \n",
    "\n",
    "print(\"CRISPR for GATA1 starts at \",CRISPRi_GATA1_start, \" end at \", CRISPRi_GATA1_end)\n",
    "\n",
    "# Filter for overlapping peaks\n",
    "GATA1_EG_pair_limited = GATA1_EG_pair[\n",
    "    (GATA1_EG_pair[\"end\"].values.astype(int) < CRISPRi_GATA1_end ) & \n",
    "    (GATA1_EG_pair[\"start\"].values.astype(int) > CRISPRi_GATA1_start)\n",
    "]\n",
    "\n",
    "GATA1_EG_pair_limited"
   ]
  },
  {
   "cell_type": "code",
   "execution_count": null,
   "metadata": {},
   "outputs": [],
   "source": [
    "CRISPRi_GATA1_limited = find_detected_peaks(GATA1_EG_pair_limited, CRISPRi_GATA1)\n",
    "CRISPRi_GATA1_limited  "
   ]
  },
  {
   "cell_type": "code",
   "execution_count": null,
   "metadata": {},
   "outputs": [],
   "source": [
    "CRISPRi_GATA1_limited\n",
    "GATA1_EG_pair_limited.reset_index(drop=True, inplace=True) "
   ]
  },
  {
   "cell_type": "code",
   "execution_count": null,
   "metadata": {},
   "outputs": [],
   "source": [
    "# coverlap between two data sets (chr, start, end)\n",
    "def CRISPRi_comparison(A, B):\n",
    "    \n",
    "    A_str = A.to_csv(sep=\"\\t\", header=False, index=False)\n",
    "    B_str = B.to_csv(sep=\"\\t\", header=False, index=False)\n",
    "\n",
    "    A_bed = pybedtools.BedTool(A_str, from_string=True)\n",
    "    B_bed = pybedtools.BedTool(B_str, from_string=True)\n",
    "\n",
    "    # Intersect: returns TP CRIPSRi peaks that overlap with CLR peaks\n",
    "    overlap =  A_bed.intersect(B_bed, wa=True)  \n",
    "\n",
    "    # Convert result to DataFrame\n",
    "    overlap_df = overlap.to_dataframe(names=[\"chr\", \"start\", \"end\"])\n",
    "    \n",
    "    return overlap_df"
   ]
  },
  {
   "cell_type": "code",
   "execution_count": null,
   "metadata": {},
   "outputs": [],
   "source": [
    "# Find TP for CRISPRi\n",
    "CRISPRi_TP = CRISPRi_GATA1_limited[CRISPRi_GATA1_limited['Significant'] == True].copy()\n",
    "CRISPRi_TP = CRISPRi_TP[['chr', 'start', 'end']].copy()\n",
    "\n",
    "overlap_df = CRISPRi_comparison(GATA1_EG_pair_limited[['chr', 'start', 'end']].copy(),CRISPRi_TP)\n",
    "overlap_df"
   ]
  },
  {
   "cell_type": "code",
   "execution_count": null,
   "metadata": {},
   "outputs": [],
   "source": [
    "merge_df = pd.merge(overlap_df, GATA1_EG_pair_limited, on=['chr', 'start', 'end'], how='left')\n",
    "merge_df"
   ]
  }
 ],
 "metadata": {
  "kernelspec": {
   "display_name": "k562_analysis",
   "language": "python",
   "name": "python3"
  },
  "language_info": {
   "codemirror_mode": {
    "name": "ipython",
    "version": 3
   },
   "file_extension": ".py",
   "mimetype": "text/x-python",
   "name": "python",
   "nbconvert_exporter": "python",
   "pygments_lexer": "ipython3",
   "version": "3.11.11"
  }
 },
 "nbformat": 4,
 "nbformat_minor": 2
}
