{
 "cells": [
  {
   "cell_type": "code",
   "execution_count": 1,
   "metadata": {},
   "outputs": [],
   "source": [
    "import sys\n",
    "import os\n",
    "import muon as mu\n",
    "\n",
    "\n",
    "# Add the Functions folder to your path\n",
    "sys.path.append(os.path.abspath(\"/Users/alexandra/Desktop/EG-CLR/Functions\"))\n",
    "\n",
    "# Now import your functions\n",
    "from QC_functions import *\n",
    "from CLR_functions import *"
   ]
  },
  {
   "cell_type": "code",
   "execution_count": 19,
   "metadata": {},
   "outputs": [
    {
     "name": "stderr",
     "output_type": "stream",
     "text": [
      "/opt/anaconda3/envs/CLR/lib/python3.11/site-packages/mudata/_core/mudata.py:1531: FutureWarning: From 0.4 .update() will not pull obs/var columns from individual modalities by default anymore. Set mudata.set_options(pull_on_update=False) to adopt the new behaviour, which will become the default. Use new pull_obs/pull_var and push_obs/push_var methods for more flexibility.\n",
      "  self._update_attr(\"var\", axis=0, join_common=join_common)\n",
      "/opt/anaconda3/envs/CLR/lib/python3.11/site-packages/mudata/_core/mudata.py:1429: FutureWarning: From 0.4 .update() will not pull obs/var columns from individual modalities by default anymore. Set mudata.set_options(pull_on_update=False) to adopt the new behaviour, which will become the default. Use new pull_obs/pull_var and push_obs/push_var methods for more flexibility.\n",
      "  self._update_attr(\"obs\", axis=1, join_common=join_common)\n"
     ]
    }
   ],
   "source": [
    "# Load multimodal data\n",
    "mdata = mu.read(\"/Volumes/G-DRIVE mobile USB-C/Single-cell_data/K562/10x/ISSAACC-seq_generated/hg19_10xCloud_aligned_data/processed_data/multiome_data.h5mu\")\n",
    "\n",
    "adata_gem = mdata['rna']\n",
    "adata_atac = mdata['atac']"
   ]
  },
  {
   "cell_type": "code",
   "execution_count": 21,
   "metadata": {},
   "outputs": [],
   "source": [
    "# obtain orginal read counts\n",
    "adata_org = sc.read_10x_mtx('/Users/alexandra/Desktop/Data/Single-Cell/hg19_10xCloud_aligned_data/filtered_feature_bc_matrix', gex_only = False)\n",
    "\n",
    "gex_rows = list(map(lambda x: x == 'Gene Expression', adata_org.var['feature_types']))\n",
    "atac_rows = list(map(lambda x: x == 'Peaks', adata_org.var['feature_types']))\n",
    "\n",
    "adata_gem_org = adata_org[:, gex_rows].copy()\n",
    "adata_atac_org = adata_org[:, atac_rows].copy()\n",
    "\n",
    "adata_gem_org.var_names_make_unique()\n",
    "adata_atac_org.var_names_make_unique()"
   ]
  },
  {
   "cell_type": "code",
   "execution_count": null,
   "metadata": {},
   "outputs": [],
   "source": [
    "# replace read counts with orgaianl read counts\n",
    "gem_index = adata_gem.var_names\n",
    "atac_index = adata_atac.var.index\n",
    "\n",
    "cell_index = adata_gem.obs.index\n",
    "\n",
    "adata_gem_new = adata_gem_org[:, adata_gem_org.var_names.isin(gem_index)].copy()\n",
    "adata_atac_new = adata_atac_org[:, adata_atac_org.var_names.isin(gem_index)].copy()\n",
    "\n",
    "adata_gem_new = adata_gem_new[adata_gem_new.obs_names.isin(cell_index)].copy()\n",
    "#adata_atac_new = adata_atac_new[adata_atac_new.obs_names.isin(cell_index)].copy()\n"
   ]
  },
  {
   "cell_type": "code",
   "execution_count": null,
   "metadata": {},
   "outputs": [
    {
     "data": {
      "text/plain": [
       "AnnData object with n_obs × n_vars = 10359 × 13703\n",
       "    obs: 'n_genes_by_counts', 'log1p_n_genes_by_counts', 'total_counts', 'log1p_total_counts', 'pct_counts_in_top_20_genes', 'total_counts_mt', 'log1p_total_counts_mt', 'pct_counts_mt', 'total_counts_ribo', 'log1p_total_counts_ribo', 'pct_counts_ribo', 'total_counts_hb', 'log1p_total_counts_hb', 'pct_counts_hb', 'outlier', 'mt_outlier', 'S_score', 'G2M_score', 'phase'\n",
       "    var: 'gene_ids', 'feature_types', 'mt', 'ribo', 'hb', 'n_cells_by_counts', 'mean_counts', 'log1p_mean_counts', 'pct_dropout_by_counts', 'total_counts', 'log1p_total_counts', 'n_cells'\n",
       "    uns: 'log1p'"
      ]
     },
     "execution_count": 4,
     "metadata": {},
     "output_type": "execute_result"
    }
   ],
   "source": [
    "# normalizing scRNA-seq by chromasome "
   ]
  },
  {
   "cell_type": "code",
   "execution_count": null,
   "metadata": {},
   "outputs": [],
   "source": [
    "# define promoter, enhancer and gene body regions"
   ]
  },
  {
   "cell_type": "code",
   "execution_count": null,
   "metadata": {},
   "outputs": [],
   "source": [
    "# binarize scATAC-seq "
   ]
  },
  {
   "cell_type": "code",
   "execution_count": null,
   "metadata": {},
   "outputs": [],
   "source": [
    "# compute CLR matrix for GATA1 -> ChrX"
   ]
  }
 ],
 "metadata": {
  "kernelspec": {
   "display_name": "CLR",
   "language": "python",
   "name": "python3"
  },
  "language_info": {
   "codemirror_mode": {
    "name": "ipython",
    "version": 3
   },
   "file_extension": ".py",
   "mimetype": "text/x-python",
   "name": "python",
   "nbconvert_exporter": "python",
   "pygments_lexer": "ipython3",
   "version": "3.11.8"
  }
 },
 "nbformat": 4,
 "nbformat_minor": 2
}
