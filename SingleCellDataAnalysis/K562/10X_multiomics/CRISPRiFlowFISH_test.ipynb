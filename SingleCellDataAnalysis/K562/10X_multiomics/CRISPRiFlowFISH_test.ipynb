{
 "cells": [
  {
   "cell_type": "code",
   "execution_count": 1,
   "metadata": {},
   "outputs": [],
   "source": [
    "import sys\n",
    "import os\n",
    "import muon as mu\n",
    "\n",
    "\n",
    "# Add the Functions folder to your path\n",
    "sys.path.append(os.path.abspath(\"/Users/alexandra/Desktop/EG-CLR/Functions\"))\n",
    "\n",
    "# Now import your functions\n",
    "from QC_functions import *\n",
    "from CLR_functions import *"
   ]
  },
  {
   "cell_type": "code",
   "execution_count": 3,
   "metadata": {},
   "outputs": [
    {
     "name": "stderr",
     "output_type": "stream",
     "text": [
      "/opt/anaconda3/envs/CLR/lib/python3.11/site-packages/mudata/_core/mudata.py:1531: FutureWarning: From 0.4 .update() will not pull obs/var columns from individual modalities by default anymore. Set mudata.set_options(pull_on_update=False) to adopt the new behaviour, which will become the default. Use new pull_obs/pull_var and push_obs/push_var methods for more flexibility.\n",
      "  self._update_attr(\"var\", axis=0, join_common=join_common)\n",
      "/opt/anaconda3/envs/CLR/lib/python3.11/site-packages/mudata/_core/mudata.py:1429: FutureWarning: From 0.4 .update() will not pull obs/var columns from individual modalities by default anymore. Set mudata.set_options(pull_on_update=False) to adopt the new behaviour, which will become the default. Use new pull_obs/pull_var and push_obs/push_var methods for more flexibility.\n",
      "  self._update_attr(\"obs\", axis=1, join_common=join_common)\n"
     ]
    }
   ],
   "source": [
    "# Load multimodal data\n",
    "mdata = mu.read(\"/Volumes/G-DRIVE mobile USB-C/Single-cell_data/K562/10x/ISSAACC-seq_generated/hg19_10xCloud_aligned_data/processed_data/multiome_data.h5mu\")\n",
    "\n",
    "adata_gem = mdata['rna']\n",
    "adata_atac = mdata['atac']"
   ]
  },
  {
   "cell_type": "code",
   "execution_count": 8,
   "metadata": {},
   "outputs": [
    {
     "data": {
      "text/plain": [
       "AnnData object with n_obs × n_vars = 10359 × 13703\n",
       "    obs: 'n_genes_by_counts', 'log1p_n_genes_by_counts', 'total_counts', 'log1p_total_counts', 'pct_counts_in_top_20_genes', 'total_counts_mt', 'log1p_total_counts_mt', 'pct_counts_mt', 'total_counts_ribo', 'log1p_total_counts_ribo', 'pct_counts_ribo', 'total_counts_hb', 'log1p_total_counts_hb', 'pct_counts_hb', 'outlier', 'mt_outlier', 'S_score', 'G2M_score', 'phase'\n",
       "    var: 'gene_ids', 'feature_types', 'mt', 'ribo', 'hb', 'n_cells_by_counts', 'mean_counts', 'log1p_mean_counts', 'pct_dropout_by_counts', 'total_counts', 'log1p_total_counts', 'n_cells'\n",
       "    uns: 'log1p'"
      ]
     },
     "execution_count": 8,
     "metadata": {},
     "output_type": "execute_result"
    }
   ],
   "source": [
    "adata_gem"
   ]
  },
  {
   "cell_type": "code",
   "execution_count": 9,
   "metadata": {},
   "outputs": [],
   "source": [
    "# obtain orginal read counts\n",
    "adata_org = sc.read_10x_mtx('/Volumes/G-DRIVE mobile USB-C/Single-cell_data/K562/10x/ISSAACC-seq_generated/hg19_10xCloud_aligned_data/filtered_feature_bc_matrix',\n",
    "                            gex_only = False)\n",
    "\n",
    "gex_rows = list(map(lambda x: x == 'Gene Expression', adata_org.var['feature_types']))\n",
    "atac_rows = list(map(lambda x: x == 'Peaks', adata_org.var['feature_types']))\n",
    "\n",
    "adata_gem_org = adata_org[:, gex_rows].copy()\n",
    "adata_atac_org = adata_org[:, atac_rows].copy()\n",
    "\n",
    "adata_gem_org.var_names_make_unique()\n",
    "adata_atac_org.var_names_make_unique()"
   ]
  },
  {
   "cell_type": "code",
   "execution_count": 10,
   "metadata": {},
   "outputs": [],
   "source": [
    "# replace read counts with orgaianl read counts\n",
    "gem_index = adata_gem.var_names\n",
    "atac_index = adata_atac.var.index\n",
    "\n",
    "cell_index = adata_gem.obs.index\n",
    "\n",
    "adata_gem_new = adata_gem_org[:, adata_gem_org.var_names.isin(gem_index)].copy()\n",
    "adata_atac_new = adata_atac_org[:, adata_atac_org.var_names.isin(atac_index)].copy()\n",
    "\n",
    "adata_gem_new = adata_gem_new[adata_gem_new.obs_names.isin(cell_index)].copy()\n",
    "adata_atac_new = adata_atac_new[adata_atac_new.obs_names.isin(cell_index)].copy()\n"
   ]
  },
  {
   "cell_type": "code",
   "execution_count": 11,
   "metadata": {},
   "outputs": [
    {
     "data": {
      "text/plain": [
       "AnnData object with n_obs × n_vars = 10359 × 503\n",
       "    var: 'gene_ids', 'feature_types', 'Chromosome', 'Start', 'End'\n",
       "    uns: 'log1p'"
      ]
     },
     "execution_count": 11,
     "metadata": {},
     "output_type": "execute_result"
    }
   ],
   "source": [
    "# normalizing scRNA-seq by chromasomex \n",
    "adata_gem_new = assign_chr('/Volumes/G-DRIVE mobile USB-C/Single-cell_data/K562/10x/ISSAACC-seq_generated/hg19_10xCloud_aligned_data/filtered_feature_bc_matrix/features.tsv.gz', adata_gem_new)\n",
    "adata_gem_chrx = subset_adata_by_chromosome(adata_gem_new,-1)\n",
    "sc.pp.normalize_total(adata_gem_chrx, target_sum=1e4)\n",
    "sc.pp.log1p(adata_gem_chrx)\n",
    "adata_gem_chrx"
   ]
  },
  {
   "cell_type": "code",
   "execution_count": 12,
   "metadata": {},
   "outputs": [
    {
     "data": {
      "text/plain": [
       "AnnData object with n_obs × n_vars = 10359 × 3424\n",
       "    var: 'gene_ids', 'feature_types', 'gene', 'distance', 'peak_type', 'Chromosome', 'Start', 'End'"
      ]
     },
     "execution_count": 12,
     "metadata": {},
     "output_type": "execute_result"
    }
   ],
   "source": [
    "# define promoter, enhancer and gene body regions\n",
    "adata_atac_new = assign_loc('/Volumes/G-DRIVE mobile USB-C/Single-cell_data/K562/10x/ISSAACC-seq_generated/hg19_10xCloud_aligned_data/filtered_feature_bc_matrix/features.tsv.gz',\n",
    "    \"/Volumes/G-DRIVE mobile USB-C/Single-cell_data/K562/10x/ISSAACC-seq_generated/hg19_10xCloud_aligned_data/atac_peak_annotation.tsv\", adata_atac_new)\n",
    "adata_atac_new = assign_chr('/Volumes/G-DRIVE mobile USB-C/Single-cell_data/K562/10x/ISSAACC-seq_generated/hg19_10xCloud_aligned_data/filtered_feature_bc_matrix/features.tsv.gz', adata_atac_new)\n",
    "adata_atac_chrx = subset_adata_by_chromosome(adata_atac_new,-1)\n",
    "adata_atac_chrx"
   ]
  },
  {
   "cell_type": "code",
   "execution_count": 13,
   "metadata": {},
   "outputs": [],
   "source": [
    "# binarize scATAC-seq \n",
    "adata_atac_chrx.X = (adata_atac_chrx.X > 0).astype(int)"
   ]
  },
  {
   "cell_type": "code",
   "execution_count": 56,
   "metadata": {},
   "outputs": [],
   "source": [
    "adata_atac_chrx_50 = adata_atac_chrx[:1000,:2989].copy()\n",
    "adata_gem_chrx_50 = adata_gem_chrx[:1000,:50].copy()"
   ]
  },
  {
   "cell_type": "code",
   "execution_count": 57,
   "metadata": {},
   "outputs": [
    {
     "data": {
      "text/plain": [
       "AnnData object with n_obs × n_vars = 1000 × 2989\n",
       "    var: 'gene_ids', 'feature_types', 'gene', 'distance', 'peak_type', 'Chromosome', 'Start', 'End'"
      ]
     },
     "execution_count": 57,
     "metadata": {},
     "output_type": "execute_result"
    }
   ],
   "source": [
    "adata_atac_chrx_50"
   ]
  },
  {
   "cell_type": "code",
   "execution_count": 58,
   "metadata": {},
   "outputs": [],
   "source": [
    "MI_Matrix_chrx_100 = MI_Matrix_MIinfoClassif(adata_gem_chrx_50, adata_atac_chrx_50)"
   ]
  },
  {
   "cell_type": "code",
   "execution_count": null,
   "metadata": {},
   "outputs": [],
   "source": [
    "# compute CLR matrix for GATA1 -> ChrX\n",
    "MI_Matrix_chrx = MI_Matrix_MIinfoClassif(adata_gem_chrx, adata_atac_chrx)"
   ]
  },
  {
   "cell_type": "code",
   "execution_count": null,
   "metadata": {},
   "outputs": [],
   "source": [
    "CLR_matrix_chrx = CLR_Matrix(MI_Matrix_chrx)"
   ]
  },
  {
   "cell_type": "code",
   "execution_count": null,
   "metadata": {},
   "outputs": [],
   "source": [
    "write_matrixes(\"ChrX_allgene_allpeaks\",GATA1)"
   ]
  },
  {
   "cell_type": "code",
   "execution_count": null,
   "metadata": {},
   "outputs": [],
   "source": [
    "adata_CLR_matrix_chrx = ad.AnnData(X=CLR_matrix_chrx.values)\n",
    "adata_CLR_matrix_chrx.obs = adata_atac_chrx.var.copy()\n",
    "adata_CLR_matrix_chrx.var = adata_gem_chrx.var.copy()\n",
    "adata_CLR_matrix_chrx"
   ]
  },
  {
   "cell_type": "code",
   "execution_count": null,
   "metadata": {},
   "outputs": [],
   "source": [
    "CLR_matrix_chrx = pd.DataFrame(CLR_matrix_chrx.values, index=adata_atac_chrx.var['gene'], columns=adata_gem_chrx.var['geng_ids'])\n",
    "GATA1 = CLR_matrix_chrx[\"GATA1\"].copy()\n",
    "GATA1"
   ]
  },
  {
   "cell_type": "code",
   "execution_count": null,
   "metadata": {},
   "outputs": [],
   "source": [
    "# This function takes a gene name and a CLR matrix, and returns a DataFrame containing the CLR values for the specified genes.\n",
    "def EG_pair_by_name(gene, CLR_Matrix):\n",
    "    \n",
    "    if gene not in CLR_Matrix.columns:\n",
    "        print(f\"Warning: {gene} not found in CLR matrix.\")\n",
    "    else:\n",
    "        EG_pair = CLR_Matrix[gene].copy()\n",
    "        EG_pair = EG_pair[EG_pair > 0]\n",
    "        #GATA1_EG_pair = GATA1_EG_pair.reset_index()\n",
    "        \n",
    "        \n",
    "        #GATA1_EG_pair.columns = ['Peak', 'CLR_value']\n",
    "        GATA1_EG_pair = EG_pair.index.str.extract(r'^(chr\\w+):(\\d+)-(\\d+)$')\n",
    "        GATA1_EG_pair.columns = ['chr', 'start', 'end']\n",
    "\n",
    "    \n",
    "        return GATA1_EG_pair"
   ]
  },
  {
   "cell_type": "code",
   "execution_count": null,
   "metadata": {},
   "outputs": [],
   "source": [
    "GATA1_EG_pair = EG_pair_by_name(\"GATA1\", CLR_matrix_chrx)\n",
    "GATA1_EG_pair"
   ]
  },
  {
   "cell_type": "code",
   "execution_count": null,
   "metadata": {},
   "outputs": [],
   "source": [
    "CRISPRi_data = pd.read_excel('/Users/alexandra/Desktop/Data/CRISPRiFlowFISH/41588_2019_538_MOESM3_ESM.xlsx',\n",
    "                             sheet_name='Supplementary Table 6a', \n",
    "                             skiprows=0,\n",
    "                             header=1)\n",
    "CRISPRi_GATA1 = CRISPRi_data[CRISPRi_data['Gene'] == 'GATA1'].copy()\n",
    "CRISPRi_GATA1 = CRISPRi_GATA1[['chr', 'start', 'end', 'class', 'Significant']].copy()\n",
    "CRISPRi_GATA1"
   ]
  },
  {
   "cell_type": "code",
   "execution_count": null,
   "metadata": {},
   "outputs": [],
   "source": [
    "CRISPRi_GATA1_TP = CRISPRi_GATA1[CRISPRi_GATA1[\"Significant\"] == True]\n",
    "CRISPRi_GATA1_TN = CRISPRi_GATA1[CRISPRi_GATA1[\"Significant\"] == False]"
   ]
  },
  {
   "cell_type": "code",
   "execution_count": null,
   "metadata": {},
   "outputs": [],
   "source": [
    "CRISPRi_GATA1_TP = CRISPRi_GATA1_TP[['chr', 'start', 'end']].copy()\n",
    "CRISPRi_GATA1_TP"
   ]
  },
  {
   "cell_type": "code",
   "execution_count": null,
   "metadata": {},
   "outputs": [],
   "source": [
    "CRISPRi_GATA1_TN"
   ]
  },
  {
   "cell_type": "code",
   "execution_count": null,
   "metadata": {},
   "outputs": [],
   "source": [
    "CRISPRi_GATA1_start =  CRISPRi_GATA1['start'].min()\n",
    "CRISPRi_GATA1_end = CRISPRi_GATA1['end'].max() \n",
    "\n",
    "print(\"CRISPR for GATA1 starts at \",CRISPRi_GATA1_start, \" end at \", CRISPRi_GATA1_end)"
   ]
  },
  {
   "cell_type": "code",
   "execution_count": null,
   "metadata": {},
   "outputs": [],
   "source": [
    "# Filter for overlapping peaks\n",
    "GATA1_EG_pair_limited = GATA1_EG_pair[\n",
    "    (GATA1_EG_pair[\"end\"].values.astype(int) < CRISPRi_GATA1_end ) & \n",
    "    (GATA1_EG_pair[\"start\"].values.astype(int) > CRISPRi_GATA1_start)\n",
    "]\n",
    "GATA1_EG_pair_limited"
   ]
  },
  {
   "cell_type": "code",
   "execution_count": null,
   "metadata": {},
   "outputs": [],
   "source": [
    "GATA1_EG_pair_limited"
   ]
  },
  {
   "cell_type": "code",
   "execution_count": null,
   "metadata": {},
   "outputs": [],
   "source": [
    "\n",
    "CRISPRi_GATA1_TP"
   ]
  },
  {
   "cell_type": "code",
   "execution_count": null,
   "metadata": {},
   "outputs": [],
   "source": [
    "import pandas as pd\n",
    "import pybedtools\n",
    "\n",
    "# Example DataFrame\n",
    "df = pd.DataFrame({\n",
    "    \"chr\": [\"chr1\", \"chr1\", \"chr2\"],\n",
    "    \"start\": [100, 200, 300],\n",
    "    \"end\": [150, 250, 350]\n",
    "})\n",
    "\n",
    "# Convert to BedTool\n",
    "bed_str = df.to_csv(sep=\"\\t\", header=False, index=False)\n",
    "bed = pybedtools.BedTool(bed_str, from_string=True)\n",
    "\n",
    "# Now you can use .intersect(), .saveas(), etc.\n",
    "print(bed)"
   ]
  },
  {
   "cell_type": "code",
   "execution_count": null,
   "metadata": {},
   "outputs": [],
   "source": [
    "bed_str"
   ]
  },
  {
   "cell_type": "code",
   "execution_count": null,
   "metadata": {},
   "outputs": [],
   "source": [
    "# Load as BedTool\n",
    "GATA1_EG_pair_limited_bed_str = GATA1_EG_pair_limited.to_csv(sep=\"\\t\", header=False, index=False)\n",
    "CRISPRi_GATA1_TP_bed_str = CRISPRi_GATA1_TP.to_csv(sep=\"\\t\", header=False, index=False)\n",
    "\n",
    "GATA1_EG_pair_limited_bed = pybedtools.BedTool(GATA1_EG_pair_limited_bed_str, from_string=True)\n",
    "CRISPRi_GATA1_TP_bed = pybedtools.BedTool(CRISPRi_GATA1_TP_bed_str, from_string=True)\n",
    "\n",
    "# Intersect: return entries in A that overlap with B\n",
    "overlap = GATA1_EG_pair_limited_bed.intersect(CRISPRi_GATA1_TP_bed, u=True)  # 'u=True' gives only entries from A\n",
    "\n",
    "# Convert result to DataFrame\n",
    "overlap_df = overlap.to_dataframe(names=[\"chr\", \"start\", \"end\"])\n",
    "overlap_df\n"
   ]
  },
  {
   "cell_type": "markdown",
   "metadata": {},
   "source": [
    "# remove peaks that does not exist at the begining"
   ]
  }
 ],
 "metadata": {
  "kernelspec": {
   "display_name": "CLR",
   "language": "python",
   "name": "python3"
  },
  "language_info": {
   "codemirror_mode": {
    "name": "ipython",
    "version": 3
   },
   "file_extension": ".py",
   "mimetype": "text/x-python",
   "name": "python",
   "nbconvert_exporter": "python",
   "pygments_lexer": "ipython3",
   "version": "3.11.8"
  }
 },
 "nbformat": 4,
 "nbformat_minor": 2
}
