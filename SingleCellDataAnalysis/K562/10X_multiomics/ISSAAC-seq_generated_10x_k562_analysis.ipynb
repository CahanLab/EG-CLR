{
 "cells": [
  {
   "cell_type": "code",
   "execution_count": 2,
   "metadata": {},
   "outputs": [],
   "source": [
    "import numpy as np\n",
    "import pandas as pd\n",
    "import scanpy as sc\n",
    "import matplotlib.pyplot as plt\n",
    "import anndata as ad\n",
    "import seaborn as sns\n",
    "import muon as mu\n",
    "from muon import atac as ac\n",
    "import random\n",
    "import os\n",
    "import openpyxl\n",
    "import scipy\n",
    "from scipy.stats import median_abs_deviation"
   ]
  },
  {
   "cell_type": "code",
   "execution_count": 3,
   "metadata": {},
   "outputs": [],
   "source": [
    "adata = sc.read_10x_mtx('/Users/alexandra/Desktop/Data/Single-Cell/hg19_10xCloud_aligned_data/filtered_feature_bc_matrix', gex_only = False)\n",
    "\n",
    "gex_rows = list(map(lambda x: x == 'Gene Expression', adata.var['feature_types']))\n",
    "atac_rows = list(map(lambda x: x == 'Peaks', adata.var['feature_types']))\n",
    "\n",
    "adata_gem = adata[:, gex_rows].copy()\n",
    "adata_atac = adata[:, atac_rows].copy()\n",
    "\n",
    "adata_gem.var_names_make_unique()\n",
    "adata_atac.var_names_make_unique()"
   ]
  },
  {
   "cell_type": "code",
   "execution_count": null,
   "metadata": {},
   "outputs": [],
   "source": [
    "# mitochondrial genes\n",
    "adata_gem.var[\"mt\"] = adata_gem.var_names.str.startswith(\"MT-\")\n",
    "# ribosomal genes\n",
    "adata_gem.var[\"ribo\"] = adata_gem.var_names.str.startswith((\"RPS\", \"RPL\"))\n",
    "# hemoglobin genes.\n",
    "adata_gem.var[\"hb\"] = adata_gem.var_names.str.contains(\"^HB[^(P)]\")"
   ]
  },
  {
   "cell_type": "code",
   "execution_count": null,
   "metadata": {},
   "outputs": [],
   "source": [
    "# calculate qc metrics\n",
    "sc.pp.calculate_qc_metrics(\n",
    "    adata_gem, qc_vars=[\"mt\", \"ribo\", \"hb\"], inplace=True, percent_top=[20], log1p=True\n",
    ")\n",
    "adata_gem"
   ]
  },
  {
   "cell_type": "code",
   "execution_count": null,
   "metadata": {},
   "outputs": [],
   "source": [
    "p1 = sc.pl.violin(adata_gem, [\"pct_counts_mt\"])\n",
    "p2 = sc.pl.scatter(adata_gem, x=\"total_counts\", y=\"n_genes_by_counts\")\n",
    "p3 = sns.displot(adata_gem.obs[\"total_counts\"], bins=50, kde=True)"
   ]
  },
  {
   "cell_type": "code",
   "execution_count": null,
   "metadata": {},
   "outputs": [],
   "source": [
    "# filter cells by MADs\n",
    "def is_outlier(adata, metric: str, nmads: int):\n",
    "    M = adata.obs[metric]\n",
    "    outlier = (M < np.median(M) - nmads * median_abs_deviation(M)) | (np.median(M) + nmads * median_abs_deviation(M) < M )\n",
    "    return outlier "
   ]
  },
  {
   "cell_type": "code",
   "execution_count": null,
   "metadata": {},
   "outputs": [],
   "source": [
    "# filter cells by MADs\n",
    "adata_gem.obs[\"outlier\"] = (\n",
    "    is_outlier(adata_gem, \"total_counts\", 5)\n",
    "  | is_outlier(adata_gem, \"n_genes_by_counts\", 5)\n",
    ")\n",
    "\n",
    "adata_gem.obs.outlier.value_counts()"
   ]
  },
  {
   "cell_type": "code",
   "execution_count": null,
   "metadata": {},
   "outputs": [],
   "source": [
    "adata_gem.obs[\"mt_outlier\"] = adata_gem.obs[\"pct_counts_mt\"] > 20\n",
    "adata_gem.obs.mt_outlier.value_counts()"
   ]
  },
  {
   "cell_type": "code",
   "execution_count": null,
   "metadata": {},
   "outputs": [],
   "source": [
    "adata_gem = adata_gem[~adata_gem.obs[\"outlier\"] & ~adata_gem.obs.mt_outlier].copy()\n",
    "adata_gem"
   ]
  },
  {
   "cell_type": "code",
   "execution_count": null,
   "metadata": {},
   "outputs": [],
   "source": [
    "p1 = sc.pl.violin(adata_gem, [\"pct_counts_mt\"])\n",
    "p2 = sc.pl.scatter(adata_gem, x=\"total_counts\", y=\"n_genes_by_counts\")\n",
    "p3 = sns.displot(adata_gem.obs[\"total_counts\"], bins=50, kde=True)"
   ]
  },
  {
   "cell_type": "code",
   "execution_count": null,
   "metadata": {},
   "outputs": [],
   "source": [
    "# Optional: keep total validation gene\n",
    "valid_csv = pd.read_excel(\"/Users/alexandra/Desktop/Data/CRISPRiFlowFISH/41588_2019_538_MOESM3_ESM.xlsx\",  sheet_name=\"Supplementary Table 6a\", skiprows=1)\n",
    "valid_gene_list = set(valid_csv[\"Gene\"])\n",
    "len(valid_gene_list)"
   ]
  },
  {
   "cell_type": "code",
   "execution_count": null,
   "metadata": {},
   "outputs": [],
   "source": [
    "# Optional: keep only CRIPRIi-FlowFISH validation gene\n",
    "valid_csv = pd.read_excel(\"/Users/alexandra/Desktop/Data/CRISPRiFlowFISH/41588_2019_538_MOESM3_ESM.xlsx\",  sheet_name=\"Supplementary Table 3a\", skiprows=1)\n",
    "valid_gene_list = set(valid_csv[\"Gene\"])\n",
    "len(valid_gene_list)"
   ]
  },
  {
   "cell_type": "code",
   "execution_count": null,
   "metadata": {},
   "outputs": [],
   "source": [
    "# Optional: add validation genes back\n",
    "valid_gene_data = adata_gem[:,pd.Index(valid_gene_list)].copy()"
   ]
  },
  {
   "cell_type": "code",
   "execution_count": null,
   "metadata": {},
   "outputs": [],
   "source": [
    "# fitler genes\n",
    "sc.pp.filter_genes(adata_gem, min_cells=20)\n",
    "adata_gem = adata_gem[:,~adata_gem.var[\"mt\"]& ~adata_gem.var[\"ribo\"] & ~adata_gem.var[\"hb\"]].copy()\n",
    "adata_gem"
   ]
  },
  {
   "cell_type": "code",
   "execution_count": null,
   "metadata": {},
   "outputs": [],
   "source": [
    "# Normalization\n",
    "sc.pp.normalize_total(adata_gem, target_sum=1e6)\n",
    "sc.pp.log1p(adata_gem)"
   ]
  },
  {
   "cell_type": "code",
   "execution_count": null,
   "metadata": {},
   "outputs": [],
   "source": [
    "adata_gem"
   ]
  },
  {
   "cell_type": "code",
   "execution_count": null,
   "metadata": {},
   "outputs": [],
   "source": [
    "# Select highly variable genes\n",
    "adata_gem_hvg = adata_gem.copy()\n",
    "sc.pp.highly_variable_genes(adata_gem_hvg, n_top_genes=3000, inplace=True)\n",
    "\n",
    "adata_gem_hvg = adata_gem_hvg[:, adata_gem_hvg.var.highly_variable].copy()"
   ]
  },
  {
   "cell_type": "code",
   "execution_count": null,
   "metadata": {},
   "outputs": [],
   "source": [
    "# UMAP\n",
    "sc.pp.neighbors(adata_gem_hvg, n_neighbors=15, n_pcs=50)\n",
    "sc.tl.umap(adata_gem_hvg, alpha = 1, gamma = 0.1)"
   ]
  },
  {
   "cell_type": "code",
   "execution_count": null,
   "metadata": {},
   "outputs": [],
   "source": [
    "# clustering\n",
    "sc.tl.leiden(adata_gem_hvg)"
   ]
  },
  {
   "cell_type": "code",
   "execution_count": null,
   "metadata": {},
   "outputs": [],
   "source": [
    "sc.pl.umap(adata_gem_hvg, color=[\"leiden\"], legend_loc=\"on data\", ncols=3)"
   ]
  },
  {
   "cell_type": "code",
   "execution_count": null,
   "metadata": {},
   "outputs": [],
   "source": [
    "# Optional: add validation genes back\n",
    "adata_gem = ad.concat([adata_gem, valid_gene_data], axis=1, join=\"outer\")"
   ]
  },
  {
   "cell_type": "code",
   "execution_count": null,
   "metadata": {},
   "outputs": [
    {
     "name": "stdout",
     "output_type": "stream",
     "text": [
      "Average length for ATAC-seq is: 847.644787143379\n"
     ]
    }
   ],
   "source": [
    "#ATAC-seq peak length\n",
    "peak_list = list(adata_atac.var_names)\n",
    "\n",
    "length = []\n",
    "for peak in peak_list:\n",
    "    _,coordnats = peak.split(\":\")\n",
    "    start,end = map(int,coordnats.split(\"-\"))\n",
    "    length.append(end-start)\n",
    "    \n",
    "average_length = np.mean(length)\n",
    "print(\"Average length for ATAC-seq is:\", average_length)"
   ]
  },
  {
   "cell_type": "code",
   "execution_count": null,
   "metadata": {},
   "outputs": [
    {
     "name": "stderr",
     "output_type": "stream",
     "text": [
      "OMP: Info #276: omp_set_nested routine deprecated, please use omp_set_max_active_levels instead.\n"
     ]
    }
   ],
   "source": [
    "# calcaulte genereal qc metrics for ATAC-seq\n",
    "sc.pp.calculate_qc_metrics(adata_atac,percent_top = None, log1p = False, inplace = True)\n",
    "\n",
    "adata_atac.obs.rename(columns = {\"n_genes_by_counts\":\"n_fragment_by_counts\",\"total_counts\":\"total_fragment_counts\"}, inplace = True)\n",
    "\n",
    "adata_atac.obs[\"log_total_fragment_counts\"] = np.log1p(adata_atac.obs[\"total_fragment_counts\"])"
   ]
  },
  {
   "cell_type": "code",
   "execution_count": null,
   "metadata": {},
   "outputs": [],
   "source": [
    "# calculate nucleosome signal\n",
    "mu.atac.tl.locate_file(adata_atac, file = \"/Volumes/G-DRIVE mobile USB-C/Single-cell_data/K562/10x/ISSAACC-seq_generated/hg19_10xCloud_aligned_data/atac_fragments.tsv.gz\", key = \"fragments\")\n",
    "ac.tl.nucleosome_signal(adata_atac, n=10e3 * adata_atac.n_obs)"
   ]
  },
  {
   "cell_type": "code",
   "execution_count": null,
   "metadata": {},
   "outputs": [
    {
     "name": "stderr",
     "output_type": "stream",
     "text": [
      "Fetching Regions...: 100%|██████████| 3000/3000 [00:49<00:00, 60.00it/s]\n",
      "/opt/anaconda3/envs/CLR/lib/python3.11/site-packages/anndata/_core/anndata.py:401: FutureWarning: The dtype argument is deprecated and will be removed in late 2024.\n",
      "  warnings.warn(\n"
     ]
    }
   ],
   "source": [
    "# calculate tss enrichment\n",
    "df_annotation = pd.read_csv(\"/Volumes/G-DRIVE mobile USB-C/Single-cell_data/K562/10x/ISSAACC-seq_generated/hg19_10xCloud_aligned_data/atac_peak_annotation.tsv\", sep='\\t')\n",
    "df_annotation = df_annotation[['chrom', 'start', 'end']]\n",
    "df_annotation.columns = ['Chromosome', 'Start', 'End']\n",
    "\n",
    "tss = ac.tl.tss_enrichment(adata_atac,  n_tss=3000, random_state=666, features = df_annotation)"
   ]
  }
 ],
 "metadata": {
  "kernelspec": {
   "display_name": "CLR",
   "language": "python",
   "name": "python3"
  },
  "language_info": {
   "codemirror_mode": {
    "name": "ipython",
    "version": 3
   },
   "file_extension": ".py",
   "mimetype": "text/x-python",
   "name": "python",
   "nbconvert_exporter": "python",
   "pygments_lexer": "ipython3",
   "version": "3.11.8"
  }
 },
 "nbformat": 4,
 "nbformat_minor": 2
}
